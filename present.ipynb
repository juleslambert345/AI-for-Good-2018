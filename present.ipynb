{
 "cells": [
  {
   "cell_type": "markdown",
   "metadata": {},
   "source": [
    "# Prediction of treatment for sickness\n",
    "\n",
    "The goal of the project is to predict the treatment in function of the symptomn of some people that are sick.\n",
    "\n",
    "We used the Chronic illness: symptoms, treatments and triggers dataset on kaggle\n",
    "\n",
    "https://www.kaggle.com/flaredown/flaredown-autoimmune-symptom-tracker\n",
    "\n",
    "This dataset is created from an app where people with chronic sickness tell if that have symptom of something and which treatement they use. \n",
    "\n",
    "So, what we will try to predict what the people have use as treatment if they have some symptomns. \n",
    "\n",
    "So essentially what should they take if they if fell some symptome. \n",
    "\n",
    "The dataset have also other information that should be relevent in a lot of case like exterior effect such weather, food eated, ... \n",
    "\n",
    "Even if theses information are usefull, for the project during the hackathon, we only used the information of the age, sex, condition and symptom to predict the treatment.\n"
   ]
  },
  {
   "cell_type": "code",
   "execution_count": 1,
   "metadata": {},
   "outputs": [],
   "source": [
    "import pandas as pd\n",
    "import numpy as np"
   ]
  },
  {
   "cell_type": "code",
   "execution_count": 2,
   "metadata": {},
   "outputs": [
    {
     "name": "stderr",
     "output_type": "stream",
     "text": [
      "C:\\Users\\satyr\\.conda\\envs\\basepython\\lib\\site-packages\\IPython\\core\\interactiveshell.py:3145: DtypeWarning: Columns (5) have mixed types.Specify dtype option on import or set low_memory=False.\n",
      "  has_raised = await self.run_ast_nodes(code_ast.body, cell_name,\n"
     ]
    }
   ],
   "source": [
    "# read the data\n",
    "df = pd.read_csv('fd-export.csv')"
   ]
  },
  {
   "cell_type": "code",
   "execution_count": 3,
   "metadata": {},
   "outputs": [
    {
     "data": {
      "text/html": [
       "<div>\n",
       "<style scoped>\n",
       "    .dataframe tbody tr th:only-of-type {\n",
       "        vertical-align: middle;\n",
       "    }\n",
       "\n",
       "    .dataframe tbody tr th {\n",
       "        vertical-align: top;\n",
       "    }\n",
       "\n",
       "    .dataframe thead th {\n",
       "        text-align: right;\n",
       "    }\n",
       "</style>\n",
       "<table border=\"1\" class=\"dataframe\">\n",
       "  <thead>\n",
       "    <tr style=\"text-align: right;\">\n",
       "      <th></th>\n",
       "      <th>user_id</th>\n",
       "      <th>age</th>\n",
       "      <th>sex</th>\n",
       "      <th>country</th>\n",
       "      <th>checkin_date</th>\n",
       "      <th>trackable_id</th>\n",
       "      <th>trackable_type</th>\n",
       "      <th>trackable_name</th>\n",
       "      <th>trackable_value</th>\n",
       "    </tr>\n",
       "  </thead>\n",
       "  <tbody>\n",
       "    <tr>\n",
       "      <th>0</th>\n",
       "      <td>QEVuQwEABlEzkh7fsBBjEe26RyIVcg==</td>\n",
       "      <td>NaN</td>\n",
       "      <td>NaN</td>\n",
       "      <td>NaN</td>\n",
       "      <td>2015-11-26</td>\n",
       "      <td>1069</td>\n",
       "      <td>Condition</td>\n",
       "      <td>Ulcerative colitis</td>\n",
       "      <td>0</td>\n",
       "    </tr>\n",
       "    <tr>\n",
       "      <th>1</th>\n",
       "      <td>QEVuQwEAWRNGnuTRqXG2996KSkTIEw==</td>\n",
       "      <td>30.0</td>\n",
       "      <td>male</td>\n",
       "      <td>US</td>\n",
       "      <td>2015-11-26</td>\n",
       "      <td>1069</td>\n",
       "      <td>Condition</td>\n",
       "      <td>Ulcerative colitis</td>\n",
       "      <td>0</td>\n",
       "    </tr>\n",
       "    <tr>\n",
       "      <th>2</th>\n",
       "      <td>QEVuQwEA+WkNxtp/qkHvN2YmTBBDqg==</td>\n",
       "      <td>0.0</td>\n",
       "      <td>female</td>\n",
       "      <td>CA</td>\n",
       "      <td>2017-04-28</td>\n",
       "      <td>3168</td>\n",
       "      <td>Condition</td>\n",
       "      <td>pain in left upper arm felt like i was getting...</td>\n",
       "      <td>4</td>\n",
       "    </tr>\n",
       "    <tr>\n",
       "      <th>3</th>\n",
       "      <td>QEVuQwEA+WkNxtp/qkHvN2YmTBBDqg==</td>\n",
       "      <td>0.0</td>\n",
       "      <td>female</td>\n",
       "      <td>CA</td>\n",
       "      <td>2017-04-28</td>\n",
       "      <td>3169</td>\n",
       "      <td>Condition</td>\n",
       "      <td>hip pain when gettin up</td>\n",
       "      <td>3</td>\n",
       "    </tr>\n",
       "    <tr>\n",
       "      <th>4</th>\n",
       "      <td>QEVuQwEA+WkNxtp/qkHvN2YmTBBDqg==</td>\n",
       "      <td>0.0</td>\n",
       "      <td>female</td>\n",
       "      <td>CA</td>\n",
       "      <td>2017-04-28</td>\n",
       "      <td>3170</td>\n",
       "      <td>Condition</td>\n",
       "      <td>pain in hand joints</td>\n",
       "      <td>4</td>\n",
       "    </tr>\n",
       "  </tbody>\n",
       "</table>\n",
       "</div>"
      ],
      "text/plain": [
       "                            user_id   age     sex country checkin_date  \\\n",
       "0  QEVuQwEABlEzkh7fsBBjEe26RyIVcg==   NaN     NaN     NaN   2015-11-26   \n",
       "1  QEVuQwEAWRNGnuTRqXG2996KSkTIEw==  30.0    male      US   2015-11-26   \n",
       "2  QEVuQwEA+WkNxtp/qkHvN2YmTBBDqg==   0.0  female      CA   2017-04-28   \n",
       "3  QEVuQwEA+WkNxtp/qkHvN2YmTBBDqg==   0.0  female      CA   2017-04-28   \n",
       "4  QEVuQwEA+WkNxtp/qkHvN2YmTBBDqg==   0.0  female      CA   2017-04-28   \n",
       "\n",
       "  trackable_id trackable_type  \\\n",
       "0         1069      Condition   \n",
       "1         1069      Condition   \n",
       "2         3168      Condition   \n",
       "3         3169      Condition   \n",
       "4         3170      Condition   \n",
       "\n",
       "                                      trackable_name trackable_value  \n",
       "0                                 Ulcerative colitis               0  \n",
       "1                                 Ulcerative colitis               0  \n",
       "2  pain in left upper arm felt like i was getting...               4  \n",
       "3                            hip pain when gettin up               3  \n",
       "4                                pain in hand joints               4  "
      ]
     },
     "execution_count": 3,
     "metadata": {},
     "output_type": "execute_result"
    }
   ],
   "source": [
    "df.head()"
   ]
  },
  {
   "cell_type": "markdown",
   "metadata": {},
   "source": [
    "# Prepare data for each \"event\"\n",
    "\n",
    "As we can see, we have information in each line correspond to info that was enter (like condition, symptome treateemnt). So we will need to create a new tabel so that for each line, we have for a user in a specific date, what was his symptoms, his conditions and his treatements."
   ]
  },
  {
   "cell_type": "code",
   "execution_count": 4,
   "metadata": {},
   "outputs": [],
   "source": [
    "def cleanTrackable_type(x):\n",
    "    '''\n",
    "    function to tell which trackable will be keep\n",
    "    '''\n",
    "    if x in ['Condition','Symptom','Treatment']:\n",
    "        clean = True\n",
    "    else:\n",
    "        clean = False\n",
    "    return clean"
   ]
  },
  {
   "cell_type": "code",
   "execution_count": 5,
   "metadata": {},
   "outputs": [],
   "source": [
    "#keep only the data that was related to the condition, the symptom or the treatment\n",
    "df = df[[cleanTrackable_type(i) for i in df['trackable_type']]]"
   ]
  },
  {
   "cell_type": "code",
   "execution_count": 6,
   "metadata": {},
   "outputs": [
    {
     "data": {
      "text/html": [
       "<div>\n",
       "<style scoped>\n",
       "    .dataframe tbody tr th:only-of-type {\n",
       "        vertical-align: middle;\n",
       "    }\n",
       "\n",
       "    .dataframe tbody tr th {\n",
       "        vertical-align: top;\n",
       "    }\n",
       "\n",
       "    .dataframe thead th {\n",
       "        text-align: right;\n",
       "    }\n",
       "</style>\n",
       "<table border=\"1\" class=\"dataframe\">\n",
       "  <thead>\n",
       "    <tr style=\"text-align: right;\">\n",
       "      <th></th>\n",
       "      <th>user_id</th>\n",
       "      <th>age</th>\n",
       "      <th>sex</th>\n",
       "      <th>country</th>\n",
       "      <th>checkin_date</th>\n",
       "      <th>trackable_id</th>\n",
       "      <th>trackable_type</th>\n",
       "      <th>trackable_name</th>\n",
       "      <th>trackable_value</th>\n",
       "    </tr>\n",
       "  </thead>\n",
       "  <tbody>\n",
       "    <tr>\n",
       "      <th>0</th>\n",
       "      <td>QEVuQwEABlEzkh7fsBBjEe26RyIVcg==</td>\n",
       "      <td>NaN</td>\n",
       "      <td>NaN</td>\n",
       "      <td>NaN</td>\n",
       "      <td>2015-11-26</td>\n",
       "      <td>1069</td>\n",
       "      <td>Condition</td>\n",
       "      <td>Ulcerative colitis</td>\n",
       "      <td>0</td>\n",
       "    </tr>\n",
       "    <tr>\n",
       "      <th>1</th>\n",
       "      <td>QEVuQwEAWRNGnuTRqXG2996KSkTIEw==</td>\n",
       "      <td>30.0</td>\n",
       "      <td>male</td>\n",
       "      <td>US</td>\n",
       "      <td>2015-11-26</td>\n",
       "      <td>1069</td>\n",
       "      <td>Condition</td>\n",
       "      <td>Ulcerative colitis</td>\n",
       "      <td>0</td>\n",
       "    </tr>\n",
       "    <tr>\n",
       "      <th>2</th>\n",
       "      <td>QEVuQwEA+WkNxtp/qkHvN2YmTBBDqg==</td>\n",
       "      <td>NaN</td>\n",
       "      <td>female</td>\n",
       "      <td>CA</td>\n",
       "      <td>2017-04-28</td>\n",
       "      <td>3168</td>\n",
       "      <td>Condition</td>\n",
       "      <td>pain in left upper arm felt like i was getting...</td>\n",
       "      <td>4</td>\n",
       "    </tr>\n",
       "    <tr>\n",
       "      <th>3</th>\n",
       "      <td>QEVuQwEA+WkNxtp/qkHvN2YmTBBDqg==</td>\n",
       "      <td>NaN</td>\n",
       "      <td>female</td>\n",
       "      <td>CA</td>\n",
       "      <td>2017-04-28</td>\n",
       "      <td>3169</td>\n",
       "      <td>Condition</td>\n",
       "      <td>hip pain when gettin up</td>\n",
       "      <td>3</td>\n",
       "    </tr>\n",
       "    <tr>\n",
       "      <th>4</th>\n",
       "      <td>QEVuQwEA+WkNxtp/qkHvN2YmTBBDqg==</td>\n",
       "      <td>NaN</td>\n",
       "      <td>female</td>\n",
       "      <td>CA</td>\n",
       "      <td>2017-04-28</td>\n",
       "      <td>3170</td>\n",
       "      <td>Condition</td>\n",
       "      <td>pain in hand joints</td>\n",
       "      <td>4</td>\n",
       "    </tr>\n",
       "  </tbody>\n",
       "</table>\n",
       "</div>"
      ],
      "text/plain": [
       "                            user_id   age     sex country checkin_date  \\\n",
       "0  QEVuQwEABlEzkh7fsBBjEe26RyIVcg==   NaN     NaN     NaN   2015-11-26   \n",
       "1  QEVuQwEAWRNGnuTRqXG2996KSkTIEw==  30.0    male      US   2015-11-26   \n",
       "2  QEVuQwEA+WkNxtp/qkHvN2YmTBBDqg==   NaN  female      CA   2017-04-28   \n",
       "3  QEVuQwEA+WkNxtp/qkHvN2YmTBBDqg==   NaN  female      CA   2017-04-28   \n",
       "4  QEVuQwEA+WkNxtp/qkHvN2YmTBBDqg==   NaN  female      CA   2017-04-28   \n",
       "\n",
       "  trackable_id trackable_type  \\\n",
       "0         1069      Condition   \n",
       "1         1069      Condition   \n",
       "2         3168      Condition   \n",
       "3         3169      Condition   \n",
       "4         3170      Condition   \n",
       "\n",
       "                                      trackable_name trackable_value  \n",
       "0                                 Ulcerative colitis               0  \n",
       "1                                 Ulcerative colitis               0  \n",
       "2  pain in left upper arm felt like i was getting...               4  \n",
       "3                            hip pain when gettin up               3  \n",
       "4                                pain in hand joints               4  "
      ]
     },
     "execution_count": 6,
     "metadata": {},
     "output_type": "execute_result"
    }
   ],
   "source": [
    "# replace the age 0 by nan\n",
    "df['age'] = df.age.replace(0.0,np.nan)\n",
    "df.head()"
   ]
  },
  {
   "cell_type": "code",
   "execution_count": 7,
   "metadata": {},
   "outputs": [
    {
     "data": {
      "text/plain": [
       "32.77091462554299"
      ]
     },
     "execution_count": 7,
     "metadata": {},
     "output_type": "execute_result"
    }
   ],
   "source": [
    "# the average age of the data that was filled was 32\n",
    "df['age'].mean()"
   ]
  },
  {
   "cell_type": "code",
   "execution_count": 8,
   "metadata": {},
   "outputs": [],
   "source": [
    "#clean the age and sex data\n",
    "df['age'] = df.age.replace(np.nan,32) # replace the value missing or that were by 0 by the average value\n",
    "df['age'] = df['age']/50.0 # normalize the age so that it's doesn't become much bigger than 1\n",
    "df['sex'] = df.sex.replace(np.nan,'doesnt_say')\n",
    "\n",
    "# remove the data that doesn'`t have a trackable name since that doesn't give use the info we need\n",
    "df=df.dropna(subset = ['trackable_name'])"
   ]
  },
  {
   "cell_type": "code",
   "execution_count": 9,
   "metadata": {},
   "outputs": [],
   "source": [
    "def uni_name(s):\n",
    "  '''\n",
    "  function to clean the names to be uniform or to regroup some of them\n",
    "  '''\n",
    "  if s=='neck and shoulder pain': return 'neck pain'\n",
    "  elif s=='migraines': return 'migraine'\n",
    "  elif s=='dislocations': return 'subluxation'\n",
    "  elif s=='right hip pain': return 'hip pain'\n",
    "  elif s=='left hip pain': return 'hip pain'\n",
    "  elif s=='right shoulder pain': return 'shoulder pain'\n",
    "  elif s=='left shoulder pain': return 'shoulder pain'\n",
    "  elif s=='physical fatigue': return 'fatigue'\n",
    "  elif s=='tiredness': return 'fatigue'\n",
    "  elif s=='muscle ache': return 'fatigue'\n",
    "  elif s=='body aches': return 'fatigue'\n",
    "  elif s=='body aching': return 'fatigue'\n",
    "  elif s=='pain': return 'fatigue'\n",
    "  elif s=='exhaustion': return 'fatigue'\n",
    "  elif s=='muscle pain': return 'fatigue'\n",
    "  elif s=='fatigue and tiredness': return 'fatigue'\n",
    "  elif s=='headaches': return 'headache'\n",
    "  elif s=='vomiting': return 'nausea'\n",
    "  elif s=='social anxiety': return 'anxiety'\n",
    "  elif s=='stress': return 'anxiety'\n",
    "  elif s=='lightheadedness': return 'dizziness'\n",
    "  elif s=='dizzyness': return 'dizziness'\n",
    "  elif s=='middle back pain': return 'back pain'\n",
    "  elif s=='body aching': return 'back pain'\n",
    "  elif s=='lower abdomen pain': return 'stomach pain'\n",
    "  elif s=='abdominal pain': return 'stomach pain'\n",
    "  elif s=='gas': return 'bloating'\n",
    "  elif s=='dry eyes': return 'dry eye'\n",
    "  elif s=='chronic fatigue': return 'chronic pain'\n",
    "  elif s=='muscle cramps': return 'muscle spasms'\n",
    "  elif s=='right knee pain': return 'knee pain'\n",
    "  elif s=='left knee pain': return 'knee pain'\n",
    "  elif s=='palpatations': return 'palpitations'\n",
    "  elif s=='heart palpitations': return 'palpitations'\n",
    "  elif s=='heartburn': return 'acid reflux'\n",
    "  elif s=='middle back pain': return 'back pain'\n",
    "  elif s=='muscle twitching': return 'tremor'\n",
    "  elif s=='shaking hands': return 'tremor'\n",
    "  elif s=='low appetite': return 'loss of appetite'\n",
    "  elif s=='decreased appetite': return 'loss of appetite'\n",
    "  elif s=='low mood': return 'mental fatigue'\n",
    "  elif s=='sleep disturbance': return 'sleep problems'\n",
    "  elif s=='poor sleep': return 'unrefreshing sleep'\n",
    "  elif s=='suicidal thoughts': return 'suicidal ideation'\n",
    "  elif s=='memory loss': return 'memory problems'\n",
    "  elif s=='pins and needles': return 'numbness'\n",
    "  elif s=='numbness fingers': return 'numbness'\n",
    "  elif s=='low motivation': return 'lack of motivation'\n",
    "  elif s=='afternoon sleepiness': return 'excess daytime sleepiness'\n",
    "  elif s=='mood': return 'anger'\n",
    "  elif s=='sleep disturbance': return 'sleep problems'\n",
    "  elif s=='cymbalta ' : return 'duloxetine'\n",
    "  elif s=='levothyroxine' : return 'thyroxin'\n",
    "  elif s=='omeprazole' : return 'Omeprazole'\n",
    "  elif s=='plaquenil' : return 'hydroxychloroquine'\n",
    "  elif s=='synthroid' : return 'thyroxin'\n",
    "  elif s=='lyrica' : return 'pregabalin'\n",
    "  elif s=='zofran' : return 'ondansetron'\n",
    "  elif s=='wellbutrin' : return 'Bupropion'\n",
    "  elif s=='celebrex' : return 'Celecoxib'\n",
    "  elif s=='prozac' : return 'Fluoxetine'\n",
    "  elif s=='aleve' : return 'Naproxen'\n",
    "  elif s=='lexapro' : return 'Escitalopram'\n",
    "  elif s=='mezavant' : return 'Mesalazine'\n",
    "  elif s=='cbd' : return 'Cannabidiol'\n",
    "  elif s=='adderall' : return 'Amphetamine'\n",
    "  elif s=='azathioprine' : return 'Imuran'\n",
    "  elif s=='xanax' : return 'Alprazolam'\n",
    "  elif s=='seroquel' : return 'Quetiapine'\n",
    "  elif s=='prilosec' : return 'Omeprazole'\n",
    "  elif s=='wellbutrin xl' : return 'Bupropion'\n",
    "  elif s=='lamictal' : return 'Lamotrigine'\n",
    "  elif s=='klonopin' : return 'clonazepam'\n",
    "  elif s=='cbd oil' : return 'Cannabidiol'\n",
    "  elif s=='imuran' : return 'Imuran'\n",
    "  elif s=='esomeprazole' : return 'Omeprazole'\n",
    "  elif s=='dexamphetamine' : return 'Amphetamine'\n",
    "  elif s=='cbd from hemp' : return 'Cannabidiol'\n",
    "  elif s=='cbd capsules' : return 'Cannabidiol'\n",
    "  elif s=='dexlansoprazole' : return 'lansoprazole'\n",
    "  elif s=='cbd vape' : return 'Cannabidiol'\n",
    "  elif s=='metoprolol tartrate' : return 'Metoprolol'\n",
    "  elif s=='oxycodone lp' : return 'Oxycodone'\n",
    "  elif s=='cbd cream' : return 'Cannabidiol'\n",
    "  elif s=='klonopin prn' : return 'clonazepam'\n",
    "  elif s=='quetiapine xr' : return 'Quetiapine'\n",
    "  elif s=='cannabis cbd capsule 10mg' : return 'Cannabidiol'\n",
    "  elif s=='puff w/ cbd' : return 'Cannabidiol'\n",
    "  elif s=='lopressor' : return 'metoprolol'\n",
    "  elif s=='dextroamphetamine' : return 'Amphetamine'\n",
    "  elif s=='oxycodone-acetaminophen' : return 'Oxycodone'\n",
    "  elif s=='omeprazole 20mg' : return 'Omeprazole'\n",
    "  elif s=='prozac 20mg' : return 'Fluoxetine'\n",
    "  elif s=='quetiapine modified release' : return 'Quetiapine'\n",
    "  elif s=='amphetamine salts' : return 'Amphetamine'\n",
    "  elif s=='prozac (morning)' : return 'Fluoxetine'\n",
    "  elif s=='19:1 cbd:thc capsule' : return 'Cannabidiol'\n",
    "  elif s=='klonopin odt' : return 'clonazepam'\n",
    "  elif s=='cbd joint' : return 'Cannabidiol'\n",
    "  elif s=='cannabis cbd oil' : return 'Cannabidiol'\n",
    "  elif s=='supplement - cbd 2 x 2 + w/s pump' : return 'Cannabidiol'\n",
    "  elif s=='19:1 thc:cbd vape pen' : return 'Cannabidiol'\n",
    "  elif s=='cbd balm' : return 'Cannabidiol'\n",
    "  elif s=='cbd:thc' : return 'Cannabidiol'\n",
    "  elif s=='nano cbd' : return 'Cannabidiol'\n",
    "  elif s=='lamictal 8am' : return 'Lamotrigine'\n",
    "  elif s=='klonipin' : return 'clonazepam'\n",
    "  elif s=='metoprolol2' : return 'Metoprolol'\n",
    "  elif s=='methylphenidate er' : return 'methylphenidate'\n",
    "  elif s=='ibs': return 'irritable bowel syndrome'\n",
    "  elif s=='pots': return 'postural orthostatic tachycardia syndrome'\n",
    "  elif s=='postural orthostatic tachycardia syndrome (pots)': return 'postural orthostatic tachycardia syndrome'\n",
    "  elif s=='gerd': return 'gastroesophageal reflux disease'\n",
    "  elif s=='pcos': return 'polycystic ovary syndrome'\n",
    "  elif s=='ptsd': return 'post-traumatic stress disorder'\n",
    "  elif s=='post-traumatic stress disorder (ptsd)': return 'post-traumatic stress disorder'\n",
    "  elif s=='ocd': return 'obsessive compulsive disorder'\n",
    "  else: return s\n"
   ]
  },
  {
   "cell_type": "code",
   "execution_count": 10,
   "metadata": {},
   "outputs": [],
   "source": [
    "# clean the trackable name\n",
    "df['trackable_name'] = [i.lower() for i in df['trackable_name']]\n",
    "df['trackable_name'] = df['trackable_name'].apply(uni_name)\n",
    "df['trackable_name'] = [i.lower() for i in df['trackable_name']]"
   ]
  },
  {
   "cell_type": "code",
   "execution_count": 11,
   "metadata": {},
   "outputs": [],
   "source": [
    "#count the cccurence of the symptome, condition and treatment\n",
    "SymOrder = df[df['trackable_type']=='Symptom'].groupby('trackable_name').count().sort_values(by=['user_id'],ascending=False)\n",
    "CondOrder = df[df['trackable_type']=='Condition'].groupby('trackable_name').count().sort_values(by=['user_id'],ascending=False)\n",
    "TreatOrder = df[df['trackable_type']=='Treatment'].groupby('trackable_name').count().sort_values(by=['user_id'],ascending=False)\n",
    "\n",
    "# list of the condition, symptone and treatment in order of occurence\n",
    "listCond = list(CondOrder.index)\n",
    "listSym = list(SymOrder.index)\n",
    "listTreat = list(TreatOrder.index)\n",
    "\n",
    "# keep only the most commun condition, symptom and treatment\n",
    "# so we choose to focus only on what happen more often\n",
    "listCond = listCond[:150]\n",
    "listSym = listSym[:150]\n",
    "listTreat = listTreat[:100]"
   ]
  },
  {
   "cell_type": "code",
   "execution_count": 12,
   "metadata": {},
   "outputs": [
    {
     "name": "stdout",
     "output_type": "stream",
     "text": [
      "['fibromyalgia', 'depression', 'anxiety', 'chronic fatigue syndrome', 'irritable bowel syndrome', 'migraine', 'fatigue', 'postural orthostatic tachycardia syndrome', 'endometriosis', 'ehlers-danlos syndrome']\n",
      "['fatigue', 'headache', 'nausea', 'stomach pain', 'anxiety', 'joint pain', 'brain fog', 'dizziness', 'diarrhea', 'back pain']\n",
      "['ibuprofen', 'vitamin d', 'thyroxin', 'tramadol', 'magnesium', 'vitamin d3', 'omeprazole', 'naproxen', 'multivitamin', 'amitriptyline']\n"
     ]
    }
   ],
   "source": [
    "# most common condition, symptome and treatement\n",
    "print(listCond[:10])\n",
    "print(listSym[:10])\n",
    "print(listTreat[:10])"
   ]
  },
  {
   "cell_type": "code",
   "execution_count": 13,
   "metadata": {},
   "outputs": [],
   "source": [
    "# regroup info by visist(i.e. the same day and same userid) to have have all info about a visit\n",
    "dfCondition = df[df['trackable_type']=='Condition'].groupby(['user_id','checkin_date','sex','age'])['trackable_name'].agg(size= len, setCond = set)\n",
    "dfSymptom = df[df['trackable_type']=='Symptom'].groupby(['user_id','checkin_date'])['trackable_name'].agg(size= len, setSym = set)\n",
    "dfTreatment = df[df['trackable_type']=='Treatment'].groupby(['user_id','checkin_date'])['trackable_name'].agg(size= len, setTreat = set)"
   ]
  },
  {
   "cell_type": "markdown",
   "metadata": {},
   "source": [
    "Merge all the info about visit into a single data frame with each line corresponding to a visit"
   ]
  },
  {
   "cell_type": "code",
   "execution_count": 14,
   "metadata": {},
   "outputs": [],
   "source": [
    "dfLabel  = pd.merge(dfCondition.reset_index(), dfSymptom.reset_index()[['user_id','checkin_date','setSym']], on=['user_id','checkin_date'])\n",
    "dfLabel  = pd.merge(dfLabel, dfTreatment.reset_index()[['user_id','checkin_date','setTreat']], on=['user_id','checkin_date'])"
   ]
  },
  {
   "cell_type": "code",
   "execution_count": 15,
   "metadata": {},
   "outputs": [
    {
     "data": {
      "text/html": [
       "<div>\n",
       "<style scoped>\n",
       "    .dataframe tbody tr th:only-of-type {\n",
       "        vertical-align: middle;\n",
       "    }\n",
       "\n",
       "    .dataframe tbody tr th {\n",
       "        vertical-align: top;\n",
       "    }\n",
       "\n",
       "    .dataframe thead th {\n",
       "        text-align: right;\n",
       "    }\n",
       "</style>\n",
       "<table border=\"1\" class=\"dataframe\">\n",
       "  <thead>\n",
       "    <tr style=\"text-align: right;\">\n",
       "      <th></th>\n",
       "      <th>user_id</th>\n",
       "      <th>checkin_date</th>\n",
       "      <th>sex</th>\n",
       "      <th>age</th>\n",
       "      <th>size</th>\n",
       "      <th>setCond</th>\n",
       "      <th>setSym</th>\n",
       "      <th>setTreat</th>\n",
       "    </tr>\n",
       "  </thead>\n",
       "  <tbody>\n",
       "    <tr>\n",
       "      <th>0</th>\n",
       "      <td>QEVuQwEA+/tEquKas1s6wFVgiluL5A==</td>\n",
       "      <td>2017-02-15</td>\n",
       "      <td>female</td>\n",
       "      <td>0.62</td>\n",
       "      <td>4</td>\n",
       "      <td>{migraine, hashimoto's thyroiditis, diabetes, ...</td>\n",
       "      <td>{headache}</td>\n",
       "      <td>{metformin}</td>\n",
       "    </tr>\n",
       "    <tr>\n",
       "      <th>1</th>\n",
       "      <td>QEVuQwEA+/tEquKas1s6wFVgiluL5A==</td>\n",
       "      <td>2017-02-16</td>\n",
       "      <td>female</td>\n",
       "      <td>0.62</td>\n",
       "      <td>5</td>\n",
       "      <td>{migraine, anxiety, diabetes, polycystic ovary...</td>\n",
       "      <td>{headache}</td>\n",
       "      <td>{metformin, thyroxin, lisinopril}</td>\n",
       "    </tr>\n",
       "    <tr>\n",
       "      <th>2</th>\n",
       "      <td>QEVuQwEA+/zUvhAfOMgfi3kwGIyoag==</td>\n",
       "      <td>2018-03-01</td>\n",
       "      <td>female</td>\n",
       "      <td>0.64</td>\n",
       "      <td>1</td>\n",
       "      <td>{traumatic brain injury}</td>\n",
       "      <td>{noise sensitivity, right side not belonging, ...</td>\n",
       "      <td>{novalgin, gabapentin, transcranial bright lig...</td>\n",
       "    </tr>\n",
       "    <tr>\n",
       "      <th>3</th>\n",
       "      <td>QEVuQwEA+/zUvhAfOMgfi3kwGIyoag==</td>\n",
       "      <td>2018-03-02</td>\n",
       "      <td>female</td>\n",
       "      <td>0.64</td>\n",
       "      <td>1</td>\n",
       "      <td>{traumatic brain injury}</td>\n",
       "      <td>{noise sensitivity, right side not belonging, ...</td>\n",
       "      <td>{novalgin, gabapentin, massage helmet, transcr...</td>\n",
       "    </tr>\n",
       "    <tr>\n",
       "      <th>4</th>\n",
       "      <td>QEVuQwEA+/zUvhAfOMgfi3kwGIyoag==</td>\n",
       "      <td>2018-03-03</td>\n",
       "      <td>female</td>\n",
       "      <td>0.64</td>\n",
       "      <td>1</td>\n",
       "      <td>{traumatic brain injury}</td>\n",
       "      <td>{noise sensitivity, right side not belonging, ...</td>\n",
       "      <td>{novalgin, gabapentin, massage helmet, transcr...</td>\n",
       "    </tr>\n",
       "  </tbody>\n",
       "</table>\n",
       "</div>"
      ],
      "text/plain": [
       "                            user_id checkin_date     sex   age  size  \\\n",
       "0  QEVuQwEA+/tEquKas1s6wFVgiluL5A==   2017-02-15  female  0.62     4   \n",
       "1  QEVuQwEA+/tEquKas1s6wFVgiluL5A==   2017-02-16  female  0.62     5   \n",
       "2  QEVuQwEA+/zUvhAfOMgfi3kwGIyoag==   2018-03-01  female  0.64     1   \n",
       "3  QEVuQwEA+/zUvhAfOMgfi3kwGIyoag==   2018-03-02  female  0.64     1   \n",
       "4  QEVuQwEA+/zUvhAfOMgfi3kwGIyoag==   2018-03-03  female  0.64     1   \n",
       "\n",
       "                                             setCond  \\\n",
       "0  {migraine, hashimoto's thyroiditis, diabetes, ...   \n",
       "1  {migraine, anxiety, diabetes, polycystic ovary...   \n",
       "2                           {traumatic brain injury}   \n",
       "3                           {traumatic brain injury}   \n",
       "4                           {traumatic brain injury}   \n",
       "\n",
       "                                              setSym  \\\n",
       "0                                         {headache}   \n",
       "1                                         {headache}   \n",
       "2  {noise sensitivity, right side not belonging, ...   \n",
       "3  {noise sensitivity, right side not belonging, ...   \n",
       "4  {noise sensitivity, right side not belonging, ...   \n",
       "\n",
       "                                            setTreat  \n",
       "0                                        {metformin}  \n",
       "1                  {metformin, thyroxin, lisinopril}  \n",
       "2  {novalgin, gabapentin, transcranial bright lig...  \n",
       "3  {novalgin, gabapentin, massage helmet, transcr...  \n",
       "4  {novalgin, gabapentin, massage helmet, transcr...  "
      ]
     },
     "execution_count": 15,
     "metadata": {},
     "output_type": "execute_result"
    }
   ],
   "source": [
    "dfLabel.head()"
   ]
  },
  {
   "cell_type": "markdown",
   "metadata": {},
   "source": [
    "So what we will do, is to try to predict the from the sez, age, condtions and symptomn the treatment the person should have.\n",
    "\n",
    "# Prepare data for model\n",
    "\n",
    "Now, we need to process the data so that it's ready for the machine learning model"
   ]
  },
  {
   "cell_type": "code",
   "execution_count": 16,
   "metadata": {},
   "outputs": [],
   "source": [
    "# one-hot encode the information about gender\n",
    "SexVariable = pd.get_dummies(dfLabel['sex']).values"
   ]
  },
  {
   "cell_type": "code",
   "execution_count": 17,
   "metadata": {},
   "outputs": [],
   "source": [
    "# create numpy array to put the info for the model\n",
    "Xage = np.array(list(dfLabel['age'])).reshape((-1,1))\n",
    "Xsex = SexVariable\n",
    "XCond = np.zeros((dfLabel.shape[0],len(listCond)))\n",
    "XSym = np.zeros((dfLabel.shape[0],len(listSym)))\n",
    "XTreat = np.zeros((dfLabel.shape[0],len(listTreat)))"
   ]
  },
  {
   "cell_type": "code",
   "execution_count": 18,
   "metadata": {},
   "outputs": [],
   "source": [
    "# import preprocessing function for one-hot encoding the condtion, symptome and teatment\n",
    "from sklearn import preprocessing\n",
    "from sklearn.preprocessing import OneHotEncoder\n",
    "le = preprocessing.LabelEncoder()\n",
    "enc = OneHotEncoder(sparse=False)"
   ]
  },
  {
   "cell_type": "code",
   "execution_count": 19,
   "metadata": {},
   "outputs": [],
   "source": [
    "# fill (in one-hot manner) the info about the condition\n",
    "le.fit(listCond)\n",
    "for i in range((dfLabel.shape[0])):\n",
    "    listTEmpo = list(dfLabel.iloc[i]['setCond'])\n",
    "    listTEmpo = [i for i in listTEmpo if i in listCond]\n",
    "    if len(listTEmpo)!=0:\n",
    "        indiceLoc = le.transform(listTEmpo)\n",
    "        for j in indiceLoc:\n",
    "            XCond[i,j]=1"
   ]
  },
  {
   "cell_type": "code",
   "execution_count": 20,
   "metadata": {},
   "outputs": [],
   "source": [
    "# fill (in one-hot manner) the info about the symptome\n",
    "le.fit(listSym)\n",
    "for i in range((dfLabel.shape[0])):\n",
    "    listTEmpo = list(dfLabel.iloc[i]['setSym'])\n",
    "    listTEmpo = [i for i in listTEmpo if i in listSym]\n",
    "    if len(listTEmpo)!=0:\n",
    "        indiceLoc = le.transform(listTEmpo)\n",
    "        for j in indiceLoc:\n",
    "            XSym[i,j]=1"
   ]
  },
  {
   "cell_type": "code",
   "execution_count": 21,
   "metadata": {},
   "outputs": [],
   "source": [
    "# fill (in one-hot manner) the info about the treatment\n",
    "le.fit(listTreat)\n",
    "for i in range((dfLabel.shape[0])):\n",
    "    listTEmpo = list(dfLabel.iloc[i]['setTreat'])\n",
    "    listTEmpo = [i for i in listTEmpo if i in listTreat]\n",
    "    if len(listTEmpo)!=0:\n",
    "        indiceLoc = le.transform(listTEmpo)\n",
    "        for j in indiceLoc:\n",
    "            XTreat[i,j]=1"
   ]
  },
  {
   "cell_type": "code",
   "execution_count": 22,
   "metadata": {},
   "outputs": [],
   "source": [
    "# construct the numpy array that correspond to the input of the model\n",
    "XFinal = np.concatenate((Xage, Xsex), axis=1)\n",
    "XFinal = np.concatenate((XFinal, XCond), axis=1)\n",
    "XFinal = np.concatenate((XFinal, XSym), axis=1)"
   ]
  },
  {
   "cell_type": "code",
   "execution_count": 23,
   "metadata": {},
   "outputs": [],
   "source": [
    "# split data into train, valid and test set\n",
    "from sklearn.model_selection import train_test_split\n",
    "\n",
    "X_train, X_test, y_train, y_test = train_test_split(XFinal, XTreat, test_size=0.3, random_state=42)\n",
    "X_valid, X_test, y_valid, y_test = train_test_split(X_test, y_test, test_size=0.5, random_state=42)"
   ]
  },
  {
   "cell_type": "code",
   "execution_count": 24,
   "metadata": {},
   "outputs": [
    {
     "data": {
      "text/plain": [
       "33294"
      ]
     },
     "execution_count": 24,
     "metadata": {},
     "output_type": "execute_result"
    }
   ],
   "source": [
    "#we see that we have more than 33000 data in the training set\n",
    "X_train.shape[0]"
   ]
  },
  {
   "cell_type": "code",
   "execution_count": 25,
   "metadata": {},
   "outputs": [
    {
     "data": {
      "text/plain": [
       "array([ 519., 1708.,  440.,  394.,  435.,  528.,  616.,  512., 1171.,\n",
       "        352.,  761.,  429.,  643.,  583.,  570.,  521.,  439.,  726.,\n",
       "        403.,  427., 1368.,  434.,  469., 1023., 1065.,  407.,  730.,\n",
       "        596.,  471.,  904.,  532., 1346.,  380.,  562., 1110., 3217.,\n",
       "        496.,  254.,  457.,  450.,  354.,  717.,  474.,  399., 2012.,\n",
       "        407.,  312.,  573., 1171.,  323.,  559.,  283.,  390.,  501.,\n",
       "        357.,  701., 1805.,  572.,  639., 1558.,  355., 1761.,  794.,\n",
       "        363.,  408., 1428.,  510.,  440., 1243.,  918., 1304.,  445.,\n",
       "        369.,  530.,  717.,  399., 1085., 1154.,  403.,  429.,  424.,\n",
       "       2198.,  498.,  428., 2158.,  403., 1070.,  200.,  504.,  925.,\n",
       "        318., 1285., 2473., 1537.,  359., 1149.,  293.,  833.,  341.,\n",
       "       1350.])"
      ]
     },
     "execution_count": 25,
     "metadata": {},
     "output_type": "execute_result"
    }
   ],
   "source": [
    "# we can sum to how often each treatment appear. We see that the dataset is not reallty unbalance even if some treatment are more common.\n",
    "y_train.sum(axis=0)"
   ]
  },
  {
   "cell_type": "markdown",
   "metadata": {},
   "source": [
    "# train machine learning model\n",
    "\n",
    "Here we will train the machine learning model to decide which one give the best result"
   ]
  },
  {
   "cell_type": "code",
   "execution_count": 26,
   "metadata": {},
   "outputs": [],
   "source": [
    "from sklearn.model_selection import GridSearchCV\n",
    "from sklearn.ensemble import RandomForestClassifier\n",
    "from sklearn.linear_model import RidgeClassifierCV\n",
    "from sklearn.neighbors import NearestNeighbors\n",
    "from sklearn import neighbors\n",
    "from sklearn.metrics import make_scorer\n",
    "from sklearn.metrics import accuracy_score\n",
    "from sklearn.metrics import f1_score\n",
    "from sklearn.metrics import jaccard_score"
   ]
  },
  {
   "cell_type": "code",
   "execution_count": 27,
   "metadata": {},
   "outputs": [
    {
     "name": "stdout",
     "output_type": "stream",
     "text": [
      "accuracy is on test: \n",
      "0.7771548703573932\n",
      "f1 is on test: \n",
      "0.6810732978276546\n",
      "jaccard is on test: \n",
      "0.6644089179000965\n"
     ]
    },
    {
     "name": "stderr",
     "output_type": "stream",
     "text": [
      "C:\\Users\\satyr\\.conda\\envs\\basepython\\lib\\site-packages\\sklearn\\metrics\\_classification.py:1464: UndefinedMetricWarning: F-score is ill-defined and being set to 0.0 in samples with no true nor predicted labels. Use `zero_division` parameter to control this behavior.\n",
      "  _warn_prf(\n",
      "C:\\Users\\satyr\\.conda\\envs\\basepython\\lib\\site-packages\\sklearn\\metrics\\_classification.py:1221: UndefinedMetricWarning: Jaccard is ill-defined and being set to 0.0 in samples with no true or predicted labels. Use `zero_division` parameter to control this behavior.\n",
      "  _warn_prf(average, modifier, msg_start, len(result))\n"
     ]
    }
   ],
   "source": [
    "# let try random forest\n",
    "\n",
    "clf = RandomForestClassifier()\n",
    "parameters = {'criterion':('gini', 'entropy'), 'bootstrap':(True, False),'max_features':(5, 10),'n_jobs':[8]}\n",
    "\n",
    "grid = GridSearchCV(clf, parameters, n_jobs =8)\n",
    "grid.fit(X_train, y_train)\n",
    "\n",
    "y_test_pred = grid.best_estimator_.predict(X_test)\n",
    "\n",
    "print('accuracy is on test: ')\n",
    "print(accuracy_score(y_test, y_test_pred))\n",
    "\n",
    "print('f1 is on test: ')\n",
    "print(f1_score(y_test, y_test_pred, average = 'samples'))\n",
    "\n",
    "# jsccard score make more sence in the case of multi-labelling\n",
    "print('jaccard is on test: ')\n",
    "print(jaccard_score(y_test, y_test_pred, average = 'samples'))"
   ]
  },
  {
   "cell_type": "code",
   "execution_count": 28,
   "metadata": {},
   "outputs": [
    {
     "name": "stdout",
     "output_type": "stream",
     "text": [
      "accuracy is on test: \n",
      "0.7510861948142957\n",
      "f1 is on test: \n",
      "0.6731070678776299\n",
      "jaccard is on test: \n",
      "0.6549167339363762\n"
     ]
    },
    {
     "name": "stderr",
     "output_type": "stream",
     "text": [
      "C:\\Users\\satyr\\.conda\\envs\\basepython\\lib\\site-packages\\sklearn\\metrics\\_classification.py:1464: UndefinedMetricWarning: F-score is ill-defined and being set to 0.0 in samples with no true nor predicted labels. Use `zero_division` parameter to control this behavior.\n",
      "  _warn_prf(\n",
      "C:\\Users\\satyr\\.conda\\envs\\basepython\\lib\\site-packages\\sklearn\\metrics\\_classification.py:1221: UndefinedMetricWarning: Jaccard is ill-defined and being set to 0.0 in samples with no true or predicted labels. Use `zero_division` parameter to control this behavior.\n",
      "  _warn_prf(average, modifier, msg_start, len(result))\n"
     ]
    }
   ],
   "source": [
    "clf  = neighbors.KNeighborsClassifier()\n",
    "parameters = {'n_neighbors':(2,3,4,5)}\n",
    "\n",
    "grid = GridSearchCV(clf, parameters, n_jobs =8)\n",
    "grid.fit(X_train, y_train)\n",
    "\n",
    "y_test_pred = grid.best_estimator_.predict(X_test)\n",
    "\n",
    "print('accuracy is on test: ')\n",
    "print(accuracy_score(y_test, y_test_pred))\n",
    "\n",
    "print('f1 is on test: ')\n",
    "print(f1_score(y_test, y_test_pred, average = 'samples'))\n",
    "\n",
    "# jsccard score make more sence in the case of multi-labelling\n",
    "print('jaccard is on test: ')\n",
    "print(jaccard_score(y_test, y_test_pred, average = 'samples'))"
   ]
  }
 ],
 "metadata": {
  "kernelspec": {
   "display_name": "Python 3",
   "language": "python",
   "name": "python3"
  },
  "language_info": {
   "codemirror_mode": {
    "name": "ipython",
    "version": 3
   },
   "file_extension": ".py",
   "mimetype": "text/x-python",
   "name": "python",
   "nbconvert_exporter": "python",
   "pygments_lexer": "ipython3",
   "version": "3.8.5"
  }
 },
 "nbformat": 4,
 "nbformat_minor": 2
}
